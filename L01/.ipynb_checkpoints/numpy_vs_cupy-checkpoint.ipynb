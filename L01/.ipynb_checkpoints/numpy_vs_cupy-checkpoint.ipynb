{
 "cells": [
  {
   "cell_type": "markdown",
   "metadata": {
    "tags": []
   },
   "source": [
    "Installing cupy on my computer threw an error so I did everything on kaggle:\n",
    "\n",
    "https://www.kaggle.com/krajnovic/numpy-vs-cupy \n",
    "\n",
    "Excerpt:\n",
    "\n",
    "In the following notebook we compare numpy to cupy for the reconstruction of an image after SVD. We can see cupy being the faster option for a one-liner implementation with broadcasting. The opposite is true for an implementation with 2 without broadcasting as cupy takes a very long time for that. The reason for that is probably because cupy can't handle the for loops correctly and push it as vectors to the GPU. Single operations inside the loop are not parallelized. In the broadcasting function where cupy was faster, it gets pushed to the GPU as vectors and there it is much faster."
   ]
  }
 ],
 "metadata": {
  "kernelspec": {
   "display_name": "Python 3 (ipykernel)",
   "language": "python",
   "name": "python3"
  },
  "language_info": {
   "codemirror_mode": {
    "name": "ipython",
    "version": 3
   },
   "file_extension": ".py",
   "mimetype": "text/x-python",
   "name": "python",
   "nbconvert_exporter": "python",
   "pygments_lexer": "ipython3",
   "version": "3.9.7"
  }
 },
 "nbformat": 4,
 "nbformat_minor": 4
}
